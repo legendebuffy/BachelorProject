{
 "cells": [
  {
   "cell_type": "code",
   "execution_count": null,
   "metadata": {},
   "outputs": [],
   "source": [
    "import os\n",
    "import numpy as np\n",
    "import matplotlib.pyplot as plt\n",
    "\n",
    "if os.getcwd()[-3:] != \"TGB\":\n",
    "    os.chdir('..')\n",
    "print(os.getcwd())\n",
    "\n",
    "from tgb.linkproppred.dataset import LinkPropPredDataset\n",
    "\n",
    "def load_data(name):\n",
    "    dataset = LinkPropPredDataset(name=name, root=\"datasets\", preprocess=True)\n",
    "    data = dataset.full_data\n",
    "    return data\n",
    "\n",
    "def show_data(data, data_name=\"\", ign_keys=[], save_path=None):\n",
    "    # Data shape\n",
    "    \n",
    "    print(\"=============== Data shapes ================\")\n",
    "    print(\"Length of data: \", len(data))\n",
    "    print(\"Number of unique nodes: \", len(np.unique(np.hstack((data['sources'],data['destinations'])))))\n",
    "    print(\"Number of edges: \", len(data['sources']))\n",
    "    print(\"Number of unique timestamps: \", len(np.unique(data['timestamps'])))\n",
    "    print()\n",
    "    for key in data.keys():\n",
    "        print(key, data[key].shape)\n",
    "\n",
    "\n",
    "    print(\"============== Preview of attributes =================\")\n",
    "\n",
    "    for key in data.keys():\n",
    "        if key in ['edge_feat']:\n",
    "            print(key, data[key][0][:6])\n",
    "            print(\"\\feats:\", data[key].shape[1]) #edge_feat\n",
    "        else:\n",
    "            print(key, data[key][:10])\n",
    "    \n",
    "    # Plot data\n",
    "    fig, axs = plt.subplots(len(data.keys()), 2, figsize=(20, 25))\n",
    "    plot_row = -1\n",
    "    for i, key in enumerate(data.keys()):\n",
    "        plot_data = data[key]\n",
    "        if key in ['edge_feat']:\n",
    "            plot_data = data[key].flatten()\n",
    "        plot_row += 1\n",
    "        # set main title\n",
    "        axs[i][0].set_title(\"histogram of \" + key)\n",
    "        axs[i][0].hist(plot_data, bins=100)\n",
    "\n",
    "        axs[i][1].set_title(\"plot of \" + key)\n",
    "        axs[i][1].plot(plot_data)\n",
    "    plt.show()\n",
    "\n",
    "    # save plots\n",
    "    if save_path is not None:\n",
    "        fig.savefig(save_path)\n",
    "\n",
    "def calculate_density(data):\n",
    "    # Extract sources and destinations\n",
    "    sources = data['sources']\n",
    "    destinations = data['destinations']\n",
    "\n",
    "    # Determine unique nodes\n",
    "    nodes = set(sources).union(set(destinations))\n",
    "    N = len(nodes)\n",
    "\n",
    "    # Total number of edges\n",
    "    E = len(sources)\n",
    "\n",
    "    # Calculate average density\n",
    "    average_density = E / (N * (N - 1)) * 100\n",
    "\n",
    "    print(f\"Average Density of the Network: {average_density:.3f}%\")"
   ]
  },
  {
   "cell_type": "code",
   "execution_count": null,
   "metadata": {},
   "outputs": [],
   "source": [
    "def density(N,E):\n",
    "    return E / (N * (N - 1)) * 100"
   ]
  },
  {
   "cell_type": "code",
   "execution_count": null,
   "metadata": {},
   "outputs": [],
   "source": [
    "calculate_density(data_wiki)"
   ]
  },
  {
   "cell_type": "code",
   "execution_count": null,
   "metadata": {},
   "outputs": [],
   "source": [
    "density(18143,67169570)"
   ]
  },
  {
   "cell_type": "markdown",
   "metadata": {},
   "source": [
    "# Wiki"
   ]
  },
  {
   "cell_type": "code",
   "execution_count": null,
   "metadata": {},
   "outputs": [],
   "source": [
    "data_wiki = load_data(\"tgbl-wiki\")"
   ]
  },
  {
   "cell_type": "code",
   "execution_count": null,
   "metadata": {},
   "outputs": [],
   "source": [
    "show_data(data_wiki)"
   ]
  },
  {
   "cell_type": "code",
   "execution_count": null,
   "metadata": {},
   "outputs": [],
   "source": [
    "data_wiki.keys()"
   ]
  },
  {
   "cell_type": "code",
   "execution_count": null,
   "metadata": {},
   "outputs": [],
   "source": [
    "calculate_density(data_wiki)"
   ]
  },
  {
   "cell_type": "markdown",
   "metadata": {},
   "source": [
    "# Review"
   ]
  },
  {
   "cell_type": "code",
   "execution_count": null,
   "metadata": {},
   "outputs": [],
   "source": [
    "data_review = load_data(\"tgbl-review\")"
   ]
  },
  {
   "cell_type": "code",
   "execution_count": null,
   "metadata": {},
   "outputs": [],
   "source": [
    "show_data(data_review, ign_keys=['edge_feat'])"
   ]
  },
  {
   "cell_type": "code",
   "execution_count": null,
   "metadata": {},
   "outputs": [],
   "source": [
    "calculate_density(data_review)"
   ]
  },
  {
   "cell_type": "markdown",
   "metadata": {},
   "source": [
    "# Flight"
   ]
  },
  {
   "cell_type": "code",
   "execution_count": null,
   "metadata": {},
   "outputs": [],
   "source": [
    "data_flight = load_data(\"tgbl-flight\")"
   ]
  },
  {
   "cell_type": "code",
   "execution_count": null,
   "metadata": {},
   "outputs": [],
   "source": [
    "show_data(data_flight, ign_keys=['edge_feat'])"
   ]
  },
  {
   "cell_type": "code",
   "execution_count": null,
   "metadata": {},
   "outputs": [],
   "source": [
    "calculate_density(data_flight)"
   ]
  },
  {
   "cell_type": "markdown",
   "metadata": {},
   "source": [
    "# Coin"
   ]
  },
  {
   "cell_type": "code",
   "execution_count": null,
   "metadata": {},
   "outputs": [],
   "source": [
    "data_coin = load_data(\"tgbl-coin\")"
   ]
  },
  {
   "cell_type": "code",
   "execution_count": null,
   "metadata": {},
   "outputs": [],
   "source": [
    "show_data(data_coin, ign_keys=['edge_feat'])"
   ]
  },
  {
   "cell_type": "code",
   "execution_count": null,
   "metadata": {},
   "outputs": [],
   "source": [
    "calculate_density(data_coin)"
   ]
  },
  {
   "cell_type": "markdown",
   "metadata": {},
   "source": [
    "# Comment"
   ]
  },
  {
   "cell_type": "code",
   "execution_count": null,
   "metadata": {},
   "outputs": [],
   "source": [
    "data_comment = load_data(\"tgbl-comment\")"
   ]
  },
  {
   "cell_type": "code",
   "execution_count": null,
   "metadata": {},
   "outputs": [],
   "source": [
    "show_data(data_comment, ign_keys=['edge_feat'])"
   ]
  },
  {
   "cell_type": "code",
   "execution_count": null,
   "metadata": {},
   "outputs": [],
   "source": [
    "calculate_density(data_comment)"
   ]
  }
 ],
 "metadata": {
  "kernelspec": {
   "display_name": "BScProject",
   "language": "python",
   "name": "python3"
  },
  "language_info": {
   "codemirror_mode": {
    "name": "ipython",
    "version": 3
   },
   "file_extension": ".py",
   "mimetype": "text/x-python",
   "name": "python",
   "nbconvert_exporter": "python",
   "pygments_lexer": "ipython3",
   "version": "3.10.11"
  }
 },
 "nbformat": 4,
 "nbformat_minor": 2
}
